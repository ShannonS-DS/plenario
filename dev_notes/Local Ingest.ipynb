{
 "cells": [
  {
   "cell_type": "code",
   "execution_count": null,
   "metadata": {
    "collapsed": true
   },
   "outputs": [],
   "source": [
    "from plenario.models import MetaTable"
   ]
  },
  {
   "cell_type": "code",
   "execution_count": null,
   "metadata": {
    "collapsed": true
   },
   "outputs": [],
   "source": [
    "from plenario.etl.point import PlenarioETL"
   ]
  },
  {
   "cell_type": "code",
   "execution_count": null,
   "metadata": {
    "collapsed": false
   },
   "outputs": [],
   "source": [
    "path = '/Users/willengler/Downloads/someFile.csv'\n",
    "\n",
    "\n",
    "submission_meta = MetaTable(url=u'dummy_url',\n",
    "                             human_name=u'Your Dataset Name',\n",
    "                             observed_date=u'startdate',\n",
    "                             latitude=u'Latitude', \n",
    "                             longitude=u'Longitude',\n",
    "                             approved_status=True)\n",
    "                                 \n",
    "etl = PlenarioETL(submission_meta, source_path=path)\n",
    "etl.add()"
   ]
  }
 ],
 "metadata": {
  "kernelspec": {
   "display_name": "Python 2",
   "language": "python",
   "name": "python2"
  },
  "language_info": {
   "codemirror_mode": {
    "name": "ipython",
    "version": 2
   },
   "file_extension": ".py",
   "mimetype": "text/x-python",
   "name": "python",
   "nbconvert_exporter": "python",
   "pygments_lexer": "ipython2",
   "version": "2.7.10"
  }
 },
 "nbformat": 4,
 "nbformat_minor": 0
}
